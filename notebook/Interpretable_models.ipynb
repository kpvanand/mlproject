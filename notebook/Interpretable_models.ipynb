{
 "cells": [
  {
   "cell_type": "code",
   "execution_count": 1,
   "metadata": {},
   "outputs": [
    {
     "name": "stderr",
     "output_type": "stream",
     "text": [
      "C:\\Users\\vivekananda214749\\AppData\\Roaming\\Python\\Python311\\site-packages\\pandas\\core\\arrays\\masked.py:60: UserWarning: Pandas requires version '1.3.6' or newer of 'bottleneck' (version '1.3.5' currently installed).\n",
      "  from pandas.core import (\n"
     ]
    }
   ],
   "source": [
    "# %% Imports\n",
    "from utils import DataLoader\n",
    "from interpret.glassbox import (LogisticRegression,\n",
    "                                ClassificationTree, \n",
    "                                ExplainableBoostingClassifier)\n",
    "from interpret import show\n",
    "from sklearn.metrics import f1_score, accuracy_score\n"
   ]
  },
  {
   "cell_type": "markdown",
   "metadata": {},
   "source": [
    "!pip install pandas --upgrade --user"
   ]
  },
  {
   "cell_type": "markdown",
   "metadata": {},
   "source": [
    "!pip install flask --upgrade --user"
   ]
  },
  {
   "cell_type": "markdown",
   "metadata": {},
   "source": [
    "!pip install Jinja2==3.1.2 --user"
   ]
  },
  {
   "cell_type": "code",
   "execution_count": 2,
   "metadata": {},
   "outputs": [],
   "source": [
    "# %% Load and preprocess data\n",
    "data_loader = DataLoader()\n",
    "data_loader.load_dataset()\n",
    "data_loader.preprocess_data()"
   ]
  },
  {
   "cell_type": "code",
   "execution_count": 3,
   "metadata": {},
   "outputs": [
    {
     "name": "stdout",
     "output_type": "stream",
     "text": [
      "(4088, 21)\n",
      "(1022, 21)\n"
     ]
    }
   ],
   "source": [
    "# Split the data for evaluation\n",
    "X_train, X_test, y_train, y_test = data_loader.get_data_split()\n",
    "print(X_train.shape)\n",
    "print(X_test.shape)"
   ]
  },
  {
   "cell_type": "code",
   "execution_count": 4,
   "metadata": {},
   "outputs": [
    {
     "name": "stdout",
     "output_type": "stream",
     "text": [
      "After oversampling: (7778, 21)\n"
     ]
    }
   ],
   "source": [
    "# Oversample the train data\n",
    "X_train, y_train = data_loader.oversample(X_train, y_train)\n",
    "print(\"After oversampling:\", X_train.shape)"
   ]
  },
  {
   "cell_type": "code",
   "execution_count": 5,
   "metadata": {},
   "outputs": [
    {
     "name": "stderr",
     "output_type": "stream",
     "text": [
      "C:\\Users\\vivekananda214749\\AppData\\Local\\Temp\\1\\ipykernel_23036\\1366013709.py:1: FutureWarning: Downcasting behavior in `replace` is deprecated and will be removed in a future version. To retain the old behavior, explicitly call `result.infer_objects(copy=False)`. To opt-in to the future behavior, set `pd.set_option('future.no_silent_downcasting', True)`\n",
      "  X_train.replace(False,0, inplace=True)\n",
      "C:\\Users\\vivekananda214749\\AppData\\Local\\Temp\\1\\ipykernel_23036\\1366013709.py:2: FutureWarning: Downcasting behavior in `replace` is deprecated and will be removed in a future version. To retain the old behavior, explicitly call `result.infer_objects(copy=False)`. To opt-in to the future behavior, set `pd.set_option('future.no_silent_downcasting', True)`\n",
      "  X_train.replace(True,1, inplace=True)\n"
     ]
    }
   ],
   "source": [
    "X_train.replace(False,0, inplace=True)\n",
    "X_train.replace(True,1, inplace=True)"
   ]
  },
  {
   "cell_type": "code",
   "execution_count": 6,
   "metadata": {},
   "outputs": [
    {
     "name": "stdout",
     "output_type": "stream",
     "text": [
      "Training finished.\n"
     ]
    }
   ],
   "source": [
    "# %% Fit logistic regression model\n",
    "lr = LogisticRegression(random_state=2021, feature_names=X_train.columns, penalty='l1', solver='liblinear')\n",
    "lr.fit(X_train, y_train)\n",
    "print(\"Training finished.\")\n"
   ]
  },
  {
   "cell_type": "code",
   "execution_count": 7,
   "metadata": {},
   "outputs": [
    {
     "name": "stdout",
     "output_type": "stream",
     "text": [
      "F1 Score 0.5200049624713108\n",
      "Accuracy 0.7407045009784736\n"
     ]
    }
   ],
   "source": [
    "# %% Evaluate logistic regression model\n",
    "y_pred = lr.predict(X_test)\n",
    "print(f\"F1 Score {f1_score(y_test, y_pred, average='macro')}\")\n",
    "print(f\"Accuracy {accuracy_score(y_test, y_pred)}\")\n"
   ]
  },
  {
   "cell_type": "code",
   "execution_count": 8,
   "metadata": {},
   "outputs": [
    {
     "data": {
      "text/html": [
       "<!-- http://127.0.0.1:7001/1288641968912/ -->\n",
       "<iframe src=\"http://127.0.0.1:7001/1288641968912/\" width=100% height=800 frameBorder=\"0\"></iframe>"
      ]
     },
     "metadata": {},
     "output_type": "display_data"
    }
   ],
   "source": [
    "# %% Explain local prediction\n",
    "lr_local = lr.explain_local(X_test[:100], y_test[:100], name='Logistic Regression')\n",
    "show(lr_local)"
   ]
  },
  {
   "cell_type": "code",
   "execution_count": 13,
   "metadata": {},
   "outputs": [
    {
     "data": {
      "text/html": [
       "<!-- http://127.0.0.1:7001/1288666323024/ -->\n",
       "<iframe src=\"http://127.0.0.1:7001/1288666323024/\" width=100% height=800 frameBorder=\"0\"></iframe>"
      ]
     },
     "metadata": {},
     "output_type": "display_data"
    }
   ],
   "source": [
    "# %% Explain global logistic regression model\n",
    "lr_global = lr.explain_global(name='Logistic Regression')\n",
    "show(lr_global)"
   ]
  },
  {
   "cell_type": "code",
   "execution_count": 14,
   "metadata": {},
   "outputs": [
    {
     "name": "stdout",
     "output_type": "stream",
     "text": [
      "Training finished.\n",
      "F1 Score 0.5318715975074214\n",
      "Accuracy 0.7700587084148728\n"
     ]
    }
   ],
   "source": [
    "# %% Fit decision tree model\n",
    "tree = ClassificationTree()\n",
    "tree.fit(X_train, y_train)\n",
    "print(\"Training finished.\")\n",
    "y_pred = tree.predict(X_test)\n",
    "print(f\"F1 Score {f1_score(y_test, y_pred, average='macro')}\")\n",
    "print(f\"Accuracy {accuracy_score(y_test, y_pred)}\")\n"
   ]
  },
  {
   "cell_type": "code",
   "execution_count": 11,
   "metadata": {},
   "outputs": [
    {
     "data": {
      "text/html": [
       "<!-- http://127.0.0.1:7001/1288666328976/ -->\n",
       "<iframe src=\"http://127.0.0.1:7001/1288666328976/\" width=100% height=800 frameBorder=\"0\"></iframe>"
      ]
     },
     "metadata": {},
     "output_type": "display_data"
    }
   ],
   "source": [
    "# %% Explain local prediction\n",
    "tree_local = tree.explain_local(X_test[:100], y_test[:100], name='Tree')\n",
    "show(tree_local)\n",
    "\n"
   ]
  },
  {
   "cell_type": "code",
   "execution_count": 12,
   "metadata": {},
   "outputs": [
    {
     "name": "stdout",
     "output_type": "stream",
     "text": [
      "Training finished.\n",
      "F1 Score 0.5724958831721019\n",
      "Accuracy 0.9227005870841487\n"
     ]
    }
   ],
   "source": [
    "\n",
    "# %% Fit Explainable Boosting Machine\n",
    "ebm = ExplainableBoostingClassifier(random_state=1,n_jobs=1)\n",
    "ebm.fit(X_train, y_train) \n",
    "print(\"Training finished.\")\n",
    "y_pred = ebm.predict(X_test)\n",
    "print(f\"F1 Score {f1_score(y_test, y_pred, average='macro')}\")\n",
    "print(f\"Accuracy {accuracy_score(y_test, y_pred)}\")\n",
    "\n"
   ]
  },
  {
   "cell_type": "code",
   "execution_count": null,
   "metadata": {},
   "outputs": [],
   "source": [
    "# %% Explain locally\n",
    "ebm_local = ebm.explain_local(X_test[:100], y_test[:100], name='EBM')\n",
    "show(ebm_local)\n",
    "\n"
   ]
  },
  {
   "cell_type": "code",
   "execution_count": null,
   "metadata": {},
   "outputs": [],
   "source": [
    "# %% Explain globally\n",
    "ebm_global = ebm.explain_global(name='EBM')\n",
    "show(ebm_global)\n",
    "# %%"
   ]
  },
  {
   "cell_type": "code",
   "execution_count": null,
   "metadata": {},
   "outputs": [],
   "source": []
  },
  {
   "cell_type": "code",
   "execution_count": null,
   "metadata": {},
   "outputs": [],
   "source": []
  }
 ],
 "metadata": {
  "kernelspec": {
   "display_name": "Python 3 (ipykernel)",
   "language": "python",
   "name": "python3"
  },
  "language_info": {
   "codemirror_mode": {
    "name": "ipython",
    "version": 3
   },
   "file_extension": ".py",
   "mimetype": "text/x-python",
   "name": "python",
   "nbconvert_exporter": "python",
   "pygments_lexer": "ipython3",
   "version": "3.11.3"
  }
 },
 "nbformat": 4,
 "nbformat_minor": 2
}
